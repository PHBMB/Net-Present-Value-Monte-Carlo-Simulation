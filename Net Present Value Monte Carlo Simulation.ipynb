{
 "cells": [
  {
   "cell_type": "markdown",
   "metadata": {
    "button": false,
    "new_sheet": false,
    "run_control": {
     "read_only": false
    }
   },
   "source": [
    "<h1 align=\"center\">Net Present Value Monte Carlo Simulation</h1>\n"
   ]
  },
  {
   "cell_type": "markdown",
   "metadata": {
    "button": false,
    "new_sheet": false,
    "run_control": {
     "read_only": false
    }
   },
   "source": [
    "# Import all Required Libraries."
   ]
  },
  {
   "cell_type": "code",
   "execution_count": 43,
   "metadata": {
    "button": false,
    "new_sheet": false,
    "run_control": {
     "read_only": false
    }
   },
   "outputs": [],
   "source": [
    "# random provides shuffle() that shuffles the original list in place, and sample() that returns a new list that is randomly shuffled\n",
    "import random\n",
    "\n",
    "import csv"
   ]
  },
  {
   "cell_type": "markdown",
   "metadata": {},
   "source": [
    "# Help Functions"
   ]
  },
  {
   "cell_type": "code",
   "execution_count": 2,
   "metadata": {},
   "outputs": [],
   "source": [
    "def numberDiff(num1: float, num2: float) -> float:\n",
    "    diff: float\n",
    "    if num1 > num2:\n",
    "        diff = num1 - num2\n",
    "    else:\n",
    "        diff = num2 - num1\n",
    "    return diff"
   ]
  },
  {
   "cell_type": "markdown",
   "metadata": {},
   "source": [
    "# Cash Flow Objects"
   ]
  },
  {
   "cell_type": "markdown",
   "metadata": {},
   "source": [
    "## Cash Flow Object Definition"
   ]
  },
  {
   "cell_type": "markdown",
   "metadata": {},
   "source": [
    "The cash flows that an investment will generate are estimated. One cash flow can range from the best to the normal to the worst case. The distribution can be defined for each cash flow."
   ]
  },
  {
   "cell_type": "code",
   "execution_count": 3,
   "metadata": {},
   "outputs": [],
   "source": [
    "class cashFlowObject:\n",
    "    bestCase_CashFlow: float\n",
    "    bestCase_CashFlow_Discounted: float\n",
    "    bestCase_Probability: float\n",
    "    averageCase_CashFlow: float\n",
    "    averageCase_CashFlow_Discounted: float\n",
    "    averageCase_Probability: float\n",
    "    worstCase_CashFlow: float\n",
    "    worstCase_CashFlow_Discounted: float\n",
    "    worstCase_Probability: float\n",
    "    cashFlow_Period: int\n",
    "    name: str\n",
    "        \n",
    "    def __init__(self, bestCase_CashFlow: float, bestCase_Probability: float, averageCase_CashFlow: float, averageCase_Probability: float, worstCase_CashFlow: float, worstCase_Probability: float, cashFlow_Period: float, name: str):\n",
    "        self.bestCase_CashFlow = bestCase_CashFlow\n",
    "        self.bestCase_Probability = bestCase_Probability\n",
    "        self.averageCase_CashFlow = averageCase_CashFlow\n",
    "        self.averageCase_Probability = averageCase_Probability\n",
    "        self.worstCase_CashFlow = worstCase_CashFlow\n",
    "        self.worstCase_Probability = worstCase_Probability\n",
    "        self.cashFlow_Period = cashFlow_Period\n",
    "        self.name = name\n",
    "    "
   ]
  },
  {
   "cell_type": "markdown",
   "metadata": {},
   "source": [
    "## Define all Cash Flows"
   ]
  },
  {
   "cell_type": "code",
   "execution_count": 4,
   "metadata": {},
   "outputs": [],
   "source": [
    "cashFlows: list[cashFlowObject]\n",
    "cashFlows = []"
   ]
  },
  {
   "cell_type": "code",
   "execution_count": 5,
   "metadata": {},
   "outputs": [],
   "source": [
    "cashFlows.append(cashFlowObject(-20.0, 0.1, -22.0, 0.7, -24.0, 0.2, 0, \"Parameter 1\"))\n",
    "cashFlows.append(cashFlowObject(-12.0, 0.08, -14.0, 0.8, -16.0, 0.12, 0, \"Parameter 2\"))\n",
    "cashFlows.append(cashFlowObject(-3,0.05,-2,0.83,-1,0.12,1,\"Parameter 3\"))\n",
    "cashFlows.append(cashFlowObject(-2,0.08,-3,0.78,-4,0.14,1,\"Parameter 4\"))\n",
    "cashFlows.append(cashFlowObject(-1,0.04,-2,0.86,-3,0.1,1,\"Parameter 5\"))\n",
    "cashFlows.append(cashFlowObject(19,0.1,18,0.75,17,0.15,1,\"Parameter 6\"))\n",
    "cashFlows.append(cashFlowObject(11,0.08,10,0.76,7,0.16,1,\"Parameter 7\"))\n",
    "cashFlows.append(cashFlowObject(-4,0.06,-3,0.81,-2,0.13,2,\"Parameter 3\"))\n",
    "cashFlows.append(cashFlowObject(-3,0.09,-4,0.76,-5,0.15,2,\"Parameter 4\"))\n",
    "cashFlows.append(cashFlowObject(-2,0.05,-3,0.84,-4,0.11,2,\"Parameter 5\"))\n",
    "cashFlows.append(cashFlowObject(22,0.11,21,0.73,20,0.16,2,\"Parameter 6\"))\n",
    "cashFlows.append(cashFlowObject(12,0.09,11,0.74,9,0.17,2,\"Parameter 7\"))"
   ]
  },
  {
   "cell_type": "markdown",
   "metadata": {},
   "source": [
    "## Discount all Cash Flows"
   ]
  },
  {
   "cell_type": "code",
   "execution_count": 6,
   "metadata": {},
   "outputs": [],
   "source": [
    "discountFactror_WACC = 0.12"
   ]
  },
  {
   "cell_type": "code",
   "execution_count": 7,
   "metadata": {},
   "outputs": [],
   "source": [
    "for cashFlowObject in cashFlows:\n",
    "    cashFlowObject.bestCase_CashFlow_Discounted = round(cashFlowObject.bestCase_CashFlow * (1+discountFactror_WACC)**(-cashFlowObject.cashFlow_Period),2)\n",
    "    cashFlowObject.averageCase_CashFlow_Discounted = round(cashFlowObject.averageCase_CashFlow * (1+discountFactror_WACC)**(-cashFlowObject.cashFlow_Period),2)\n",
    "    cashFlowObject.worstCase_CashFlow_Discounted = round(cashFlowObject.worstCase_CashFlow * (1+discountFactror_WACC)**(-cashFlowObject.cashFlow_Period),2)"
   ]
  },
  {
   "cell_type": "markdown",
   "metadata": {},
   "source": [
    "# Create Urns for every Cash Flow Object"
   ]
  },
  {
   "cell_type": "markdown",
   "metadata": {},
   "source": [
    "The urns contain the possible values of a cash flow object. </br>\n",
    "</br>\n",
    "How to fill the urns?\n",
    "1. The values and probabilities between the cases are evenly distributed. </br>\n",
    "2. In order to get an representative distribution in every urn, the evenly distributed values are  multiplied with the representative and evenly distributed probabilities."
   ]
  },
  {
   "cell_type": "code",
   "execution_count": 8,
   "metadata": {},
   "outputs": [],
   "source": [
    "class cashFlowUrn:\n",
    "    valueDistribution: list[float]\n",
    "    cashFlow_Period: int\n",
    "    name: str\n",
    "    \n",
    "    def __init__(self, cashFlow_Period: int, name: str):\n",
    "        self.valueDistribution = []\n",
    "        self.cashFlow_Period = cashFlow_Period\n",
    "        self.name = name"
   ]
  },
  {
   "cell_type": "code",
   "execution_count": 9,
   "metadata": {},
   "outputs": [],
   "source": [
    "evenlyDistributionStepsFromCaseToCase: int = 50"
   ]
  },
  {
   "cell_type": "code",
   "execution_count": 21,
   "metadata": {},
   "outputs": [
    {
     "name": "stdout",
     "output_type": "stream",
     "text": [
      "Parameter 1 & t= 0 ; Possibilities (elements in urn): 4,265\n",
      "Parameter 2 & t= 0 ; Possibilities (elements in urn): 4,510\n",
      "Parameter 3 & t= 1 ; Possibilities (elements in urn): 4,584\n",
      "Parameter 4 & t= 1 ; Possibilities (elements in urn): 4,461\n",
      "Parameter 5 & t= 1 ; Possibilities (elements in urn): 4,657\n",
      "Parameter 6 & t= 1 ; Possibilities (elements in urn): 4,386\n",
      "Parameter 7 & t= 1 ; Possibilities (elements in urn): 4,412\n",
      "Parameter 3 & t= 2 ; Possibilities (elements in urn): 4,544\n",
      "Parameter 4 & t= 2 ; Possibilities (elements in urn): 4,411\n",
      "Parameter 5 & t= 2 ; Possibilities (elements in urn): 4,608\n",
      "Parameter 6 & t= 2 ; Possibilities (elements in urn): 4,338\n",
      "Parameter 7 & t= 2 ; Possibilities (elements in urn): 4,362\n",
      "Number of urns: 12\n",
      "Amount of possible cases due to configuration: 61,950,645,862,095,899,584,537,363,635,489,320,258,764,800\n"
     ]
    }
   ],
   "source": [
    "cashFlowUrns: list[cashFlowUrn] = []\n",
    "amountOfCoveredCases: int = 1\n",
    "\n",
    "for cfo in cashFlows:\n",
    "    # create urn for every cash flow object\n",
    "    curCashFlowUrn = cashFlowUrn(cfo.cashFlow_Period, cfo.name)\n",
    "    \n",
    "    # calc parameters for the distribution of the urn values\n",
    "    valueStepsFromWCtoAV = (numberDiff(cfo.averageCase_CashFlow_Discounted, cfo.worstCase_CashFlow_Discounted) / evenlyDistributionStepsFromCaseToCase)\n",
    "    valueStepsFromACtoBC = (numberDiff(cfo.bestCase_CashFlow_Discounted, cfo.averageCase_CashFlow_Discounted) / evenlyDistributionStepsFromCaseToCase)\n",
    "    percentStepsFromWCtoAV = (numberDiff(cfo.averageCase_Probability, cfo.worstCase_Probability) / evenlyDistributionStepsFromCaseToCase)\n",
    "    percentStepsFromACtoBC = (numberDiff(cfo.averageCase_Probability, cfo.bestCase_Probability) / evenlyDistributionStepsFromCaseToCase)\n",
    "    \n",
    "    # Init parameter for the loops to fill the urn\n",
    "    curValue: float\n",
    "    curDistribution: float\n",
    "    \n",
    "    # Add worst case (inclusive) to average case (inclusive) values into the urn\n",
    "    for w2a in range(0, evenlyDistributionStepsFromCaseToCase + 1):\n",
    "        curValue = None\n",
    "        curDistribution = None\n",
    "        if cfo.worstCase_CashFlow_Discounted <= cfo.averageCase_CashFlow_Discounted: \n",
    "            curValue = cfo.worstCase_CashFlow_Discounted + (w2a * valueStepsFromWCtoAV)\n",
    "        else:\n",
    "            curValue = cfo.worstCase_CashFlow_Discounted - (w2a * valueStepsFromWCtoAV)\n",
    "        if cfo.worstCase_Probability <= cfo.averageCase_Probability:\n",
    "            curDistribution = (cfo.worstCase_Probability + (w2a * percentStepsFromWCtoAV)) * 100\n",
    "        else:\n",
    "            curDistribution = (cfo.worstCase_Probability - (w2a * percentStepsFromWCtoAV)) * 100\n",
    "        # fill the urn\n",
    "        curValue = round(curValue,4)\n",
    "        for w2aFill in range(0, int(round(curDistribution))):\n",
    "            curCashFlowUrn.valueDistribution.append(curValue)\n",
    "        \n",
    "    # Add average case (exclusive) to beste case (inclusive) values into the urn\n",
    "    for a2b in range(1, evenlyDistributionStepsFromCaseToCase + 1):\n",
    "        curValue = None\n",
    "        curDistribution = None\n",
    "        if cfo.averageCase_CashFlow_Discounted <= cfo.bestCase_CashFlow_Discounted:\n",
    "            curValue = cfo.averageCase_CashFlow_Discounted + (a2b * valueStepsFromACtoBC)\n",
    "        else: \n",
    "            curValue = cfo.averageCase_CashFlow_Discounted - (a2b * valueStepsFromACtoBC)\n",
    "        if cfo.averageCase_Probability <= cfo.bestCase_Probability:\n",
    "             curDistribution = (cfo.averageCase_Probability + (a2b * percentStepsFromACtoBC)) * 100\n",
    "        else:\n",
    "            curDistribution = (cfo.averageCase_Probability - (a2b * percentStepsFromACtoBC)) * 100\n",
    "        curValue = round(curValue,4)\n",
    "        # fill the urn\n",
    "        for a2bFill in range(0, int(round(curDistribution))):\n",
    "            curCashFlowUrn.valueDistribution.append(curValue)\n",
    "            \n",
    "    cashFlowUrns.append(curCashFlowUrn)\n",
    "    \n",
    "    print(curCashFlowUrn.name, \"& t=\", curCashFlowUrn.cashFlow_Period, \"; Possibilities (elements in urn):\", f\"{len(curCashFlowUrn.valueDistribution):,}\")\n",
    "    amountOfCoveredCases = amountOfCoveredCases * len(curCashFlowUrn.valueDistribution)\n",
    "\n",
    "\n",
    "print(\"Number of urns:\", f\"{len(cashFlowUrns):,}\")\n",
    "print(\"Amount of possible cases due to configuration:\", f\"{amountOfCoveredCases:,}\")"
   ]
  },
  {
   "cell_type": "markdown",
   "metadata": {},
   "source": [
    "Shuffle all urns to improve the random draw."
   ]
  },
  {
   "cell_type": "code",
   "execution_count": 22,
   "metadata": {},
   "outputs": [],
   "source": [
    "shuffleFrequency: int = 100"
   ]
  },
  {
   "cell_type": "code",
   "execution_count": 23,
   "metadata": {},
   "outputs": [],
   "source": [
    "for urn in cashFlowUrns:\n",
    "    for shuffleCounter in range(0, shuffleFrequency):\n",
    "        random.shuffle(urn.valueDistribution) "
   ]
  },
  {
   "cell_type": "markdown",
   "metadata": {},
   "source": [
    "# Simulate Possible Net Present Values"
   ]
  },
  {
   "cell_type": "code",
   "execution_count": 24,
   "metadata": {},
   "outputs": [],
   "source": [
    "possibleNPVs: list[float]"
   ]
  },
  {
   "cell_type": "markdown",
   "metadata": {},
   "source": [
    "Help function"
   ]
  },
  {
   "cell_type": "code",
   "execution_count": 25,
   "metadata": {},
   "outputs": [],
   "source": [
    "def getRandomNPV() -> float:\n",
    "    randomNPV: float = 0\n",
    "    for curUrn in cashFlowUrns:\n",
    "        randomNPV += random.choice(curUrn.valueDistribution)\n",
    "    return randomNPV"
   ]
  },
  {
   "cell_type": "markdown",
   "metadata": {},
   "source": [
    "Parameter"
   ]
  },
  {
   "cell_type": "markdown",
   "metadata": {},
   "source": [
    "Amount of simulations (cases) - must be smaller than the amount of possible cases due to configuration."
   ]
  },
  {
   "cell_type": "code",
   "execution_count": 26,
   "metadata": {},
   "outputs": [
    {
     "name": "stdout",
     "output_type": "stream",
     "text": [
      "Amount of possible cases due to configuration: 61,950,645,862,095,899,584,537,363,635,489,320,258,764,800\n"
     ]
    }
   ],
   "source": [
    "print(\"Amount of possible cases due to configuration:\", f\"{amountOfCoveredCases:,}\")"
   ]
  },
  {
   "cell_type": "code",
   "execution_count": 47,
   "metadata": {},
   "outputs": [],
   "source": [
    "simulationCases: int = 1000000"
   ]
  },
  {
   "cell_type": "code",
   "execution_count": 48,
   "metadata": {},
   "outputs": [],
   "source": [
    "possibleNPVs = []\n",
    "for simulation in range(0, simulationCases):\n",
    "    possibleNPVs.append(getRandomNPV())"
   ]
  },
  {
   "cell_type": "code",
   "execution_count": 49,
   "metadata": {},
   "outputs": [
    {
     "name": "stdout",
     "output_type": "stream",
     "text": [
      "1000000\n"
     ]
    }
   ],
   "source": [
    "print(len(possibleNPVs))"
   ]
  },
  {
   "cell_type": "code",
   "execution_count": 52,
   "metadata": {},
   "outputs": [],
   "source": [
    "import csv\n",
    "with open('simulationValues.csv', 'w', newline='') as file:\n",
    "    writer = csv.writer(file)\n",
    "    for el in possibleNPVs:\n",
    "        writer.writerow([round(el,2)])"
   ]
  },
  {
   "cell_type": "code",
   "execution_count": null,
   "metadata": {},
   "outputs": [],
   "source": []
  }
 ],
 "metadata": {
  "kernelspec": {
   "display_name": "Python 3",
   "language": "python",
   "name": "python3"
  },
  "language_info": {
   "codemirror_mode": {
    "name": "ipython",
    "version": 3
   },
   "file_extension": ".py",
   "mimetype": "text/x-python",
   "name": "python",
   "nbconvert_exporter": "python",
   "pygments_lexer": "ipython3",
   "version": "3.9.1"
  }
 },
 "nbformat": 4,
 "nbformat_minor": 4
}
